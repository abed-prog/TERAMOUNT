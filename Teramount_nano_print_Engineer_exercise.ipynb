{
  "nbformat": 4,
  "nbformat_minor": 0,
  "metadata": {
    "colab": {
      "provenance": [],
      "name": "Teramount nano print Engineer exercise.ipynb",
      "authorship_tag": "ABX9TyMOh6kJcknpwFdvS7r9Lfrz",
      "include_colab_link": true
    },
    "kernelspec": {
      "name": "python3",
      "display_name": "Python 3"
    },
    "language_info": {
      "name": "python"
    }
  },
  "cells": [
    {
      "cell_type": "markdown",
      "metadata": {
        "id": "view-in-github",
        "colab_type": "text"
      },
      "source": [
        "<a href=\"https://colab.research.google.com/github/abed-prog/TERAMOUNT/blob/main/Teramount_nano_print_Engineer_exercise.ipynb\" target=\"_parent\"><img src=\"https://colab.research.google.com/assets/colab-badge.svg\" alt=\"Open In Colab\"/></a>"
      ]
    },
    {
      "cell_type": "code",
      "source": [
        "# Install dependencies (Colab)\n",
        "!pip install -q cadquery trimesh rtree matplotlib pandas\n",
        "\n",
        "# Imports\n",
        "import cadquery as cq\n",
        "from cadquery import exporters\n",
        "import trimesh, numpy as np, pandas as pd, matplotlib.pyplot as plt\n",
        "from google.colab import files\n",
        "\n",
        "# User input and derived dims\n",
        "w, d, h = map(float, input(\"Enter cube dimensions (width depth height): \").replace(',', ' ').split())\n",
        "roof_h, roof_d, roof_oh, roof_w = 0.5*h, 1.5*d, 0.25*w, w + 2*0.25*w\n",
        "box_w, box_d, box_h = 0.25*w, 0.25*d, 2*h\n",
        "box_xmin = 2*w\n",
        "box_xmax = box_xmin + box_w\n",
        "box_ymin, box_ymax = w/2 - box_d/2, w/2 + box_d/2\n",
        "\n",
        "# Create parts\n",
        "cube = cq.Workplane(\"XY\").box(w, d, h).translate((w/2, d/2, h/2))\n",
        "roof = (cq.Workplane(\"XZ\").polyline([(-roof_w/2, 0), (roof_w/2, 0), (0, roof_h)]).close()\n",
        "        .extrude(roof_d).translate((w/2, d + d/4, h)))\n",
        "box = cq.Workplane(\"XY\").box(box_w, box_d, box_h).translate((2*w + box_w/2, 2*box_d, box_h/2))\n",
        "scene = cq.Compound.makeCompound([cube.val(), roof.val(), box.val()])\n",
        "stl_file = \"3D_house_and_box.stl\"\n",
        "exporters.export(scene, stl_file)\n",
        "print(f\"✅ STL saved as: {stl_file}\")\n",
        "\n",
        "# Topography image\n",
        "mesh = trimesh.load_mesh(stl_file)\n",
        "grid_size = 400\n",
        "xmin, ymin, _ = mesh.bounds[0]\n",
        "xmax, ymax, zmax = mesh.bounds[1]\n",
        "xi, yi = np.linspace(xmin, xmax, grid_size), np.linspace(ymin, ymax, grid_size)\n",
        "X, Y = np.meshgrid(xi, yi)\n",
        "Z = np.zeros_like(X)\n",
        "origins = np.column_stack((X.ravel(), Y.ravel(), np.full(X.size, zmax + 10)))\n",
        "directions = np.tile([0,0,-1], (X.size,1))\n",
        "locs, idx_rays, _ = mesh.ray.intersects_location(origins, directions)\n",
        "for loc, idx in zip(locs, idx_rays):\n",
        "    iy, ix = divmod(idx, grid_size)\n",
        "    Z[iy, ix] = max(Z[iy, ix], loc[2])\n",
        "plt.figure(figsize=(6,6))\n",
        "plt.imshow(Z, origin=\"lower\", extent=(xmin,xmax,ymin,ymax), cmap=\"viridis\")\n",
        "plt.colorbar(label=\"Z Height\")\n",
        "plt.title(\"Topography\")\n",
        "plt.xlabel(\"X\"); plt.ylabel(\"Y\"); plt.tight_layout()\n",
        "plt.savefig(\"Topography.png\", dpi=300)\n",
        "print(\"✅ Topography saved as: Topography.png\")\n",
        "\n",
        "# Metadata elements\n",
        "house = dict(\n",
        "    Element=\"Element 1\", position_x=w/2, position_y=d/2, position_z=h/2 + roof_h/2,\n",
        "    xmin=-roof_oh, xmax=w+roof_oh, ymin=-0.25*d, ymax=d+0.25*d, zmin=0, zmax=h+roof_h,\n",
        "    width=roof_w, depth=roof_d, height=h+roof_h,\n",
        "    corners=[(0,0,0),(0,0,h),(0,d,0),(0,d,h),(w,0,0),(w,0,h),(w,d,0),(w,d,h),\n",
        "             (-roof_oh,-roof_oh,h),(-roof_oh,-roof_oh,h+roof_h),\n",
        "             (-roof_oh,d+roof_oh,h),(-roof_oh,d+roof_oh,h+roof_h),\n",
        "             (w+roof_oh,-roof_oh,h),(w+roof_oh,-roof_oh,h+roof_h),\n",
        "             (w+roof_oh,d+roof_oh,h),(w+roof_oh,d+roof_oh,h+roof_h)],\n",
        "    **{\"z range\": \"\", \"X-Distance(z)\": \"\"}\n",
        ")\n",
        "box_meta = dict(\n",
        "    Element=\"Element 2\", position_x=box_xmin+box_w/2, position_y=2*box_d, position_z=box_h/2,\n",
        "    xmin=box_xmin, xmax=box_xmax, ymin=box_ymin, ymax=box_ymax, zmin=0, zmax=box_h,\n",
        "    width=box_w, depth=box_d, height=box_h,\n",
        "    corners=[(box_xmin,box_ymin,0),(box_xmin,box_ymin,box_h),(box_xmin,box_ymax,0),(box_xmin,box_ymax,box_h),\n",
        "             (box_xmax,box_ymin,0),(box_xmax,box_ymin,box_h),(box_xmax,box_ymax,0),(box_xmax,box_ymax,box_h)],\n",
        "    **{\"z range\": \"\", \"X-Distance(z)\": \"\"}\n",
        ")\n",
        "distance_data = [\n",
        "    {\"Element\":\"—\", \"z range\": f\"0 < z < {w}\", \"X-Distance(z)\": f\"{w}\"},\n",
        "    {\"Element\":\"—\", \"z range\": f\"{h} < z < {h + roof_h}\", \"X-Distance(z)\": f\"1.5*(z - {w}) + {box_xmin - (w + roof_oh)}\"},\n",
        "]\n",
        "# Fill empty keys in distance_data to match df columns\n",
        "keys = house.keys()\n",
        "for d in distance_data:\n",
        "    for k in keys:\n",
        "        d.setdefault(k, \"\")\n",
        "\n",
        "df = pd.DataFrame([house, box_meta] + distance_data)\n",
        "csv_file = \"element_metadata_real_eq.csv\"\n",
        "df.to_csv(csv_file, index=False)\n",
        "print(f\"✅ CSV saved as: {csv_file}\")\n",
        "\n",
        "# Download files\n",
        "for f in (stl_file, \"Topography.png\", csv_file):\n",
        "    files.download(f)\n"
      ],
      "metadata": {
        "colab": {
          "base_uri": "https://localhost:8080/",
          "height": 814
        },
        "id": "EPU4cjvQgAJT",
        "outputId": "1bbe2caf-807b-40f6-80b4-d6ee60891354"
      },
      "execution_count": null,
      "outputs": [
        {
          "output_type": "stream",
          "name": "stdout",
          "text": [
            "\u001b[?25l   \u001b[90m━━━━━━━━━━━━━━━━━━━━━━━━━━━━━━━━━━━━━━━━\u001b[0m \u001b[32m0.0/163.9 kB\u001b[0m \u001b[31m?\u001b[0m eta \u001b[36m-:--:--\u001b[0m\r\u001b[2K   \u001b[91m━━━━━━━━━━━━━━━━━━━━━━━━━━━━━━━━━━━━━━━\u001b[0m\u001b[91m╸\u001b[0m \u001b[32m163.8/163.9 kB\u001b[0m \u001b[31m6.9 MB/s\u001b[0m eta \u001b[36m0:00:01\u001b[0m\r\u001b[2K   \u001b[90m━━━━━━━━━━━━━━━━━━━━━━━━━━━━━━━━━━━━━━━━\u001b[0m \u001b[32m163.9/163.9 kB\u001b[0m \u001b[31m4.3 MB/s\u001b[0m eta \u001b[36m0:00:00\u001b[0m\n",
            "\u001b[?25h\u001b[?25l   \u001b[90m━━━━━━━━━━━━━━━━━━━━━━━━━━━━━━━━━━━━━━━━\u001b[0m \u001b[32m0.0/729.1 kB\u001b[0m \u001b[31m?\u001b[0m eta \u001b[36m-:--:--\u001b[0m\r\u001b[2K   \u001b[91m━━━━━━━━━━━━━━━━━━━━━━━━━━━━━━━━━━━━━━━\u001b[0m\u001b[91m╸\u001b[0m \u001b[32m727.0/729.1 kB\u001b[0m \u001b[31m30.4 MB/s\u001b[0m eta \u001b[36m0:00:01\u001b[0m\r\u001b[2K   \u001b[90m━━━━━━━━━━━━━━━━━━━━━━━━━━━━━━━━━━━━━━━━\u001b[0m \u001b[32m729.1/729.1 kB\u001b[0m \u001b[31m18.0 MB/s\u001b[0m eta \u001b[36m0:00:00\u001b[0m\n",
            "\u001b[2K   \u001b[90m━━━━━━━━━━━━━━━━━━━━━━━━━━━━━━━━━━━━━━━━\u001b[0m \u001b[32m507.6/507.6 kB\u001b[0m \u001b[31m24.7 MB/s\u001b[0m eta \u001b[36m0:00:00\u001b[0m\n",
            "\u001b[2K   \u001b[90m━━━━━━━━━━━━━━━━━━━━━━━━━━━━━━━━━━━━━━━━\u001b[0m \u001b[32m143.0/143.0 MB\u001b[0m \u001b[31m6.7 MB/s\u001b[0m eta \u001b[36m0:00:00\u001b[0m\n",
            "\u001b[2K   \u001b[90m━━━━━━━━━━━━━━━━━━━━━━━━━━━━━━━━━━━━━━━━\u001b[0m \u001b[32m438.6/438.6 kB\u001b[0m \u001b[31m21.0 MB/s\u001b[0m eta \u001b[36m0:00:00\u001b[0m\n",
            "\u001b[2K   \u001b[90m━━━━━━━━━━━━━━━━━━━━━━━━━━━━━━━━━━━━━━━━\u001b[0m \u001b[32m75.6/75.6 MB\u001b[0m \u001b[31m9.7 MB/s\u001b[0m eta \u001b[36m0:00:00\u001b[0m\n",
            "\u001b[2K   \u001b[90m━━━━━━━━━━━━━━━━━━━━━━━━━━━━━━━━━━━━━━━━\u001b[0m \u001b[32m5.8/5.8 MB\u001b[0m \u001b[31m97.5 MB/s\u001b[0m eta \u001b[36m0:00:00\u001b[0m\n",
            "\u001b[2K   \u001b[90m━━━━━━━━━━━━━━━━━━━━━━━━━━━━━━━━━━━━━━━━\u001b[0m \u001b[32m45.1/45.1 kB\u001b[0m \u001b[31m2.7 MB/s\u001b[0m eta \u001b[36m0:00:00\u001b[0m\n",
            "\u001b[?25hEnter cube dimensions (width depth height): 50,50,50\n",
            "✅ STL saved as: 3D_house_and_box.stl\n",
            "✅ Topography saved as: Topography.png\n",
            "✅ CSV saved as: element_metadata_real_eq.csv\n"
          ]
        },
        {
          "output_type": "display_data",
          "data": {
            "text/plain": [
              "<IPython.core.display.Javascript object>"
            ],
            "application/javascript": [
              "\n",
              "    async function download(id, filename, size) {\n",
              "      if (!google.colab.kernel.accessAllowed) {\n",
              "        return;\n",
              "      }\n",
              "      const div = document.createElement('div');\n",
              "      const label = document.createElement('label');\n",
              "      label.textContent = `Downloading \"${filename}\": `;\n",
              "      div.appendChild(label);\n",
              "      const progress = document.createElement('progress');\n",
              "      progress.max = size;\n",
              "      div.appendChild(progress);\n",
              "      document.body.appendChild(div);\n",
              "\n",
              "      const buffers = [];\n",
              "      let downloaded = 0;\n",
              "\n",
              "      const channel = await google.colab.kernel.comms.open(id);\n",
              "      // Send a message to notify the kernel that we're ready.\n",
              "      channel.send({})\n",
              "\n",
              "      for await (const message of channel.messages) {\n",
              "        // Send a message to notify the kernel that we're ready.\n",
              "        channel.send({})\n",
              "        if (message.buffers) {\n",
              "          for (const buffer of message.buffers) {\n",
              "            buffers.push(buffer);\n",
              "            downloaded += buffer.byteLength;\n",
              "            progress.value = downloaded;\n",
              "          }\n",
              "        }\n",
              "      }\n",
              "      const blob = new Blob(buffers, {type: 'application/binary'});\n",
              "      const a = document.createElement('a');\n",
              "      a.href = window.URL.createObjectURL(blob);\n",
              "      a.download = filename;\n",
              "      div.appendChild(a);\n",
              "      a.click();\n",
              "      div.remove();\n",
              "    }\n",
              "  "
            ]
          },
          "metadata": {}
        },
        {
          "output_type": "display_data",
          "data": {
            "text/plain": [
              "<IPython.core.display.Javascript object>"
            ],
            "application/javascript": [
              "download(\"download_6966d1dd-f321-4c80-be9e-91a118412103\", \"3D_house_and_box.stl\", 1684)"
            ]
          },
          "metadata": {}
        },
        {
          "output_type": "display_data",
          "data": {
            "text/plain": [
              "<IPython.core.display.Javascript object>"
            ],
            "application/javascript": [
              "\n",
              "    async function download(id, filename, size) {\n",
              "      if (!google.colab.kernel.accessAllowed) {\n",
              "        return;\n",
              "      }\n",
              "      const div = document.createElement('div');\n",
              "      const label = document.createElement('label');\n",
              "      label.textContent = `Downloading \"${filename}\": `;\n",
              "      div.appendChild(label);\n",
              "      const progress = document.createElement('progress');\n",
              "      progress.max = size;\n",
              "      div.appendChild(progress);\n",
              "      document.body.appendChild(div);\n",
              "\n",
              "      const buffers = [];\n",
              "      let downloaded = 0;\n",
              "\n",
              "      const channel = await google.colab.kernel.comms.open(id);\n",
              "      // Send a message to notify the kernel that we're ready.\n",
              "      channel.send({})\n",
              "\n",
              "      for await (const message of channel.messages) {\n",
              "        // Send a message to notify the kernel that we're ready.\n",
              "        channel.send({})\n",
              "        if (message.buffers) {\n",
              "          for (const buffer of message.buffers) {\n",
              "            buffers.push(buffer);\n",
              "            downloaded += buffer.byteLength;\n",
              "            progress.value = downloaded;\n",
              "          }\n",
              "        }\n",
              "      }\n",
              "      const blob = new Blob(buffers, {type: 'application/binary'});\n",
              "      const a = document.createElement('a');\n",
              "      a.href = window.URL.createObjectURL(blob);\n",
              "      a.download = filename;\n",
              "      div.appendChild(a);\n",
              "      a.click();\n",
              "      div.remove();\n",
              "    }\n",
              "  "
            ]
          },
          "metadata": {}
        },
        {
          "output_type": "display_data",
          "data": {
            "text/plain": [
              "<IPython.core.display.Javascript object>"
            ],
            "application/javascript": [
              "download(\"download_7db36138-2e7e-4e03-849e-1514f3c0370e\", \"Topography.png\", 70822)"
            ]
          },
          "metadata": {}
        },
        {
          "output_type": "display_data",
          "data": {
            "text/plain": [
              "<IPython.core.display.Javascript object>"
            ],
            "application/javascript": [
              "\n",
              "    async function download(id, filename, size) {\n",
              "      if (!google.colab.kernel.accessAllowed) {\n",
              "        return;\n",
              "      }\n",
              "      const div = document.createElement('div');\n",
              "      const label = document.createElement('label');\n",
              "      label.textContent = `Downloading \"${filename}\": `;\n",
              "      div.appendChild(label);\n",
              "      const progress = document.createElement('progress');\n",
              "      progress.max = size;\n",
              "      div.appendChild(progress);\n",
              "      document.body.appendChild(div);\n",
              "\n",
              "      const buffers = [];\n",
              "      let downloaded = 0;\n",
              "\n",
              "      const channel = await google.colab.kernel.comms.open(id);\n",
              "      // Send a message to notify the kernel that we're ready.\n",
              "      channel.send({})\n",
              "\n",
              "      for await (const message of channel.messages) {\n",
              "        // Send a message to notify the kernel that we're ready.\n",
              "        channel.send({})\n",
              "        if (message.buffers) {\n",
              "          for (const buffer of message.buffers) {\n",
              "            buffers.push(buffer);\n",
              "            downloaded += buffer.byteLength;\n",
              "            progress.value = downloaded;\n",
              "          }\n",
              "        }\n",
              "      }\n",
              "      const blob = new Blob(buffers, {type: 'application/binary'});\n",
              "      const a = document.createElement('a');\n",
              "      a.href = window.URL.createObjectURL(blob);\n",
              "      a.download = filename;\n",
              "      div.appendChild(a);\n",
              "      a.click();\n",
              "      div.remove();\n",
              "    }\n",
              "  "
            ]
          },
          "metadata": {}
        },
        {
          "output_type": "display_data",
          "data": {
            "text/plain": [
              "<IPython.core.display.Javascript object>"
            ],
            "application/javascript": [
              "download(\"download_221da5a2-bea3-4f3e-b693-d926c737b689\", \"element_metadata_real_eq.csv\", 824)"
            ]
          },
          "metadata": {}
        },
        {
          "output_type": "display_data",
          "data": {
            "text/plain": [
              "<Figure size 600x600 with 2 Axes>"
            ],
            "image/png": "[encoded data removed]"
          },
          "metadata": {}
        }
      ]
    }
  ]
}